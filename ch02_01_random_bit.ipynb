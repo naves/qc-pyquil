{
 "cells": [
  {
   "cell_type": "code",
   "execution_count": 1,
   "metadata": {},
   "outputs": [
    {
     "name": "stdout",
     "output_type": "stream",
     "text": [
      "DECLARE ro BIT[1]\n",
      "H 0\n",
      "MEASURE 0 ro[0]\n",
      "\n",
      "[[1]]\n"
     ]
    }
   ],
   "source": [
    "# This sample generates a single random bit.\n",
    "from pyquil import Program, get_qc\n",
    "from pyquil.gates import H, MEASURE\n",
    "\n",
    "p = Program()\n",
    "ro = p.declare('ro', 'BIT', 1)\n",
    "p += H(0)\n",
    "p += MEASURE(0, ro[0])\n",
    "\n",
    "print(p)\n",
    "\n",
    "qc = get_qc('1q-qvm') \n",
    "executable = qc.compile(p)\n",
    "result = qc.run(executable)\n",
    "print(result)"
   ]
  },
  {
   "cell_type": "code",
   "execution_count": null,
   "metadata": {},
   "outputs": [],
   "source": []
  },
  {
   "cell_type": "code",
   "execution_count": null,
   "metadata": {},
   "outputs": [],
   "source": []
  },
  {
   "cell_type": "code",
   "execution_count": null,
   "metadata": {},
   "outputs": [],
   "source": []
  }
 ],
 "metadata": {
  "kernelspec": {
   "display_name": "Python 3",
   "language": "python",
   "name": "python3"
  },
  "language_info": {
   "codemirror_mode": {
    "name": "ipython",
    "version": 3
   },
   "file_extension": ".py",
   "mimetype": "text/x-python",
   "name": "python",
   "nbconvert_exporter": "python",
   "pygments_lexer": "ipython3",
   "version": "3.7.6"
  }
 },
 "nbformat": 4,
 "nbformat_minor": 2
}
